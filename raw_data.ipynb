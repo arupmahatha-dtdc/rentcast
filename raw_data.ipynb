{
 "cells": [
  {
   "cell_type": "markdown",
   "id": "01d5f2fb",
   "metadata": {},
   "source": []
  },
  {
   "cell_type": "code",
   "execution_count": null,
   "id": "97c402b6",
   "metadata": {},
   "outputs": [],
   "source": []
  },
  {
   "cell_type": "markdown",
   "id": "b6241608",
   "metadata": {},
   "source": [
    "## Part 1: Pincode Data"
   ]
  },
  {
   "cell_type": "code",
   "execution_count": 1,
   "id": "462ba82a",
   "metadata": {},
   "outputs": [
    {
     "name": "stdout",
     "output_type": "stream",
     "text": [
      "Total rows in original file: 165631\n",
      "Unique pincodes in original file: 19584\n",
      "\n",
      "Rows after keeping first (district, statename) per pincode: 19584\n",
      "Unique pincodes after this operation: 19584\n",
      "\n",
      "Number of distinct pincodes: 19584\n",
      "        pincode         district    statename\n",
      "0        507204          KHAMMAM    TELANGANA\n",
      "2        507169          KHAMMAM    TELANGANA\n",
      "3        507208          KHAMMAM    TELANGANA\n",
      "7        507002          KHAMMAM    TELANGANA\n",
      "9        507168          KHAMMAM    TELANGANA\n",
      "...         ...              ...          ...\n",
      "165522   713154  PURBA BARDHAMAN  WEST BENGAL\n",
      "165564   712222          HOOGHLY  WEST BENGAL\n",
      "165579   711113           HOWRAH  WEST BENGAL\n",
      "165594   721303   MEDINIPUR WEST  WEST BENGAL\n",
      "165629   721638   MEDINIPUR EAST  WEST BENGAL\n",
      "\n",
      "[19584 rows x 3 columns]\n"
     ]
    }
   ],
   "source": [
    "import pandas as pd\n",
    "\n",
    "# Read the pincode directory CSV\n",
    "pincode_dir_df = pd.read_csv('raw_data/pincode_directory.csv')\n",
    "\n",
    "# Select relevant columns: pincode, district, statename\n",
    "pincode_district_state_df = pincode_dir_df[['pincode', 'district', 'statename']]\n",
    "\n",
    "# For each pincode, keep only the first occurrence of (district, statename)\n",
    "first_district_state_per_pincode = pincode_district_state_df.drop_duplicates(subset=['pincode'], keep='first')\n",
    "\n",
    "# Print debug info\n",
    "print(f\"Total rows in original file: {len(pincode_dir_df)}\")\n",
    "print(f\"Unique pincodes in original file: {pincode_dir_df['pincode'].nunique()}\")\n",
    "print(f\"\\nRows after keeping first (district, statename) per pincode: {len(first_district_state_per_pincode)}\")\n",
    "print(f\"Unique pincodes after this operation: {first_district_state_per_pincode['pincode'].nunique()}\")\n",
    "\n",
    "# Print the number of distinct pincodes and the shape of the dataframe\n",
    "num_distinct_pincodes = first_district_state_per_pincode['pincode'].nunique()\n",
    "print(f\"\\nNumber of distinct pincodes: {num_distinct_pincodes}\")\n",
    "print(first_district_state_per_pincode)\n",
    "\n",
    "# Save the result to processed_data folder\n",
    "first_district_state_per_pincode.to_csv('processed_data/pincode_directory.csv', index=False)"
   ]
  },
  {
   "cell_type": "code",
   "execution_count": null,
   "id": "e1b7d17e",
   "metadata": {},
   "outputs": [],
   "source": []
  }
 ],
 "metadata": {
  "kernelspec": {
   "display_name": "Python 3",
   "language": "python",
   "name": "python3"
  },
  "language_info": {
   "codemirror_mode": {
    "name": "ipython",
    "version": 3
   },
   "file_extension": ".py",
   "mimetype": "text/x-python",
   "name": "python",
   "nbconvert_exporter": "python",
   "pygments_lexer": "ipython3",
   "version": "3.10.17"
  }
 },
 "nbformat": 4,
 "nbformat_minor": 5
}
